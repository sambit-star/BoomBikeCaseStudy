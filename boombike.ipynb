{
 "cells": [
  {
   "cell_type": "code",
   "execution_count": 1,
   "id": "ff511869-47c4-4a12-bc4d-d87117484ecb",
   "metadata": {},
   "outputs": [],
   "source": [
    "import pandas as pd\n",
    "import numpy as np\n",
    "import matplotlib.pyplot as plt\n",
    "import seaborn as sns\n",
    "import warnings \n",
    "warnings.filterwarnings('ignore')"
   ]
  },
  {
   "cell_type": "markdown",
   "id": "db47a5e3-8ba5-43f6-abe2-1ca7d3bf5c8d",
   "metadata": {},
   "source": [
    "## Read the data set given for BoomBike"
   ]
  },
  {
   "cell_type": "code",
   "execution_count": null,
   "id": "5204d2e3-8aff-4772-8083-cb52dc7cfd80",
   "metadata": {},
   "outputs": [],
   "source": [
    "boombikedf = pd.read_csv('day.csv"
   ]
  }
 ],
 "metadata": {
  "kernelspec": {
   "display_name": "Python 3 (ipykernel)",
   "language": "python",
   "name": "python3"
  },
  "language_info": {
   "codemirror_mode": {
    "name": "ipython",
    "version": 3
   },
   "file_extension": ".py",
   "mimetype": "text/x-python",
   "name": "python",
   "nbconvert_exporter": "python",
   "pygments_lexer": "ipython3",
   "version": "3.11.7"
  }
 },
 "nbformat": 4,
 "nbformat_minor": 5
}
